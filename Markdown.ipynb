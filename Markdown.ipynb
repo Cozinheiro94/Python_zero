{
 "cells": [
  {
   "cell_type": "markdown",
   "metadata": {},
   "source": [
    "### <span style=\"color: #1466b8;\">Fórmula de Bhaskara</span>\n",
    "\n",
    "A solução para uma função de segundo grau depende das suas raízes (valores de x). Como já vimos, os coeficientes <br>precisam ser números reais e o angular diferente de zero. Sendo assim, temos a seguinte fórmula de Bhaskara:\n",
    "\n",
    "## $$x=\\frac{-b\\pm\\sqrt{b^2-4ac}}{2a}$$\n",
    "\n",
    "\n",
    " *<center>Fórmula de Bhaskara.</center>*\n",
    "\n",
    "\n",
    "\n",
    "Para melhor compreensão o seu cálculo é dividido em duas partes: discriminante da equação e operações para <br>determinar as raízes.\n",
    "\n",
    "\n",
    "**Discriminante** \n",
    "\n",
    "A figura dentro da raiz na fórmula de Bhaskara é nomeada de discriminante. Seu símbolo é a letra grega delta e <br>apresenta a determinada fórmula:\n",
    "\n",
    "\n",
    "## $$\\Delta = b^2 - 4.a.c$$\n",
    "\n",
    " *<center>Fórmula da discriminante.</center>*\n",
    "\n",
    "\n",
    "- Se o delta for maior que zero, a equação terá dois valores reais e distintos. \n",
    "- Se o delta for igual a zero, a equação terá somente um valor real ou dois resultados iguais. \n",
    "- Se o delta for menor que zero, a equação não possuirá valores reais. \n",
    "\n",
    "\n"
   ]
  }
 ],
 "metadata": {
  "language_info": {
   "name": "python"
  },
  "orig_nbformat": 4
 },
 "nbformat": 4,
 "nbformat_minor": 2
}
